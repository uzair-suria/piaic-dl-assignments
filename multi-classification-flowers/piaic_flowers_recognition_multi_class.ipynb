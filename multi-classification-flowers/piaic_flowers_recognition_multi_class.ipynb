{
  "nbformat": 4,
  "nbformat_minor": 0,
  "metadata": {
    "colab": {
      "name": "Flowers Recognition.ipynb",
      "provenance": [],
      "toc_visible": true,
      "include_colab_link": true
    },
    "kernelspec": {
      "name": "python3",
      "display_name": "Python 3"
    }
  },
  "cells": [
    {
      "cell_type": "markdown",
      "metadata": {
        "id": "view-in-github",
        "colab_type": "text"
      },
      "source": [
        "<a href=\"https://colab.research.google.com/github/uzair-suria/piaic-dl-assignments/blob/main/multi-classification-flowers/piaic_flowers_recognition_multi_class.ipynb\" target=\"_parent\"><img src=\"https://colab.research.google.com/assets/colab-badge.svg\" alt=\"Open In Colab\"/></a>"
      ]
    },
    {
      "cell_type": "markdown",
      "metadata": {
        "id": "BXgJ6uT1NydQ"
      },
      "source": [
        "# Multi Classification Problem: Flower Recognition\n"
      ]
    },
    {
      "cell_type": "markdown",
      "metadata": {
        "id": "2x5PSA8S0T5x"
      },
      "source": [
        "## Assignment: Flowers Recognition\n",
        "\n",
        "\n",
        "**Dataset Description:**\n",
        "\n",
        "This dataset contains 4242 images of flowers.\n",
        "The data collection is based on the data flicr, google images, yandex images.\n",
        "You can use this datastet to recognize plants from the photo.\n",
        "\n",
        "**Attribute Information:**\n",
        "\n",
        "The pictures are divided into five classes: chamomile, tulip, rose, sunflower, dandelion.\n",
        "\n",
        "For each class there are about 800 photos. Photos are not high resolution, about 320x240 pixels.\n",
        "\n",
        "<b>Also explore how to resize images in tensorflow and then resize all the images to a same size. </b> \n",
        "\n",
        "This is a Multiclass Classification Problem.\n",
        "\n",
        "\n"
      ]
    },
    {
      "cell_type": "markdown",
      "metadata": {
        "id": "T7vy-ktuOKJH"
      },
      "source": [
        "## Workflow:\n",
        "\n",
        "1. Load Data\n",
        "2. Split into 60 and 40 ratio\n",
        "3. Encode labels\n",
        "4. Create Model\n",
        "5. Compilation Step (Note : Its a Multiclass\n",
        "6. Classification problem , select loss , metrics according to it)\n",
        "7. Train the Model\n",
        "8. If the model gets overfit tune your model by changing the units , No. of layers , epochs , add dropout layer or add Regularizer according to the need.\n",
        "9. Prediction should be > 85%\n",
        "10. Evaluation Step\n",
        "11. Prediction\n",
        "\n",
        "\n"
      ]
    },
    {
      "cell_type": "markdown",
      "metadata": {
        "id": "ri3Bg5qfPRic"
      },
      "source": [
        "Data : <br>\n",
        "https://drive.google.com/file/d/1-OX6wn5gA-bJpjPNfSyaYQLz-A-AB_uj/view?usp=sharing"
      ]
    },
    {
      "cell_type": "code",
      "metadata": {
        "id": "hTtg3WuGTA1o"
      },
      "source": [
        ""
      ],
      "execution_count": null,
      "outputs": []
    }
  ]
}